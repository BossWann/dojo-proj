{
 "cells": [
  {
   "cell_type": "code",
   "execution_count": 1,
   "metadata": {},
   "outputs": [
    {
     "name": "stderr",
     "output_type": "stream",
     "text": [
      "WARNING:absl:Compiled the loaded model, but the compiled metrics have yet to be built. `model.compile_metrics` will be empty until you train or evaluate the model.\n"
     ]
    }
   ],
   "source": [
    "from tensorflow.keras.models import load_model\n",
    "\n",
    "model = load_model(\"C:\\\\Machine Learning\\\\projek dojo\\\\datasets\\\\msambare\\\\fer2013\\\\versions\\\\1\\\\model_ekspresi.h5\")\n"
   ]
  },
  {
   "cell_type": "code",
   "execution_count": 2,
   "metadata": {},
   "outputs": [
    {
     "name": "stdout",
     "output_type": "stream",
     "text": [
      "\u001b[1m1/1\u001b[0m \u001b[32m━━━━━━━━━━━━━━━━━━━━\u001b[0m\u001b[37m\u001b[0m \u001b[1m0s\u001b[0m 116ms/step\n",
      "Ekspresi yang terdeteksi: Angry\n"
     ]
    }
   ],
   "source": [
    "import cv2\n",
    "import numpy as np\n",
    "\n",
    "\n",
    "img_path = \"C:\\\\Machine Learning\\\\projek dojo\\\\datasets\\\\augmented\\\\test\\\\angry\\\\PrivateTest_1109992.jpg\"\n",
    "img = cv2.imread(img_path, cv2.IMREAD_GRAYSCALE)  \n",
    "img = cv2.resize(img, (48,48))  \n",
    "img = np.expand_dims(img, axis=[0,-1]) \n",
    "\n",
    "\n",
    "img = img / 255.0\n",
    "prediction = model.predict(img)\n",
    "\n",
    "\n",
    "class_labels = [\"Angry\", \"Disgust\", \"Fear\", \"Happy\", \"Neutral\", \"Sad\", \"Surprise\"]\n",
    "predicted_class = class_labels[np.argmax(prediction)]\n",
    "print(f\"Ekspresi yang terdeteksi: {predicted_class}\")\n"
   ]
  }
 ],
 "metadata": {
  "kernelspec": {
   "display_name": "Python (mediapipe_env)",
   "language": "python",
   "name": "mediapipe_env"
  },
  "language_info": {
   "codemirror_mode": {
    "name": "ipython",
    "version": 3
   },
   "file_extension": ".py",
   "mimetype": "text/x-python",
   "name": "python",
   "nbconvert_exporter": "python",
   "pygments_lexer": "ipython3",
   "version": "3.9.21"
  }
 },
 "nbformat": 4,
 "nbformat_minor": 2
}
